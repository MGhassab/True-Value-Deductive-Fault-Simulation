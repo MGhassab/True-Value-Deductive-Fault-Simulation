{
 "nbformat": 4,
 "nbformat_minor": 0,
 "metadata": {
  "colab": {
   "provenance": []
  },
  "kernelspec": {
   "name": "python3",
   "display_name": "Python 3"
  },
  "language_info": {
   "name": "python"
  }
 },
 "cells": [
  {
   "cell_type": "markdown",
   "source": [
    "# True Value Simulation"
   ],
   "metadata": {
    "collapsed": false,
    "pycharm": {
     "name": "#%% md\n"
    }
   }
  },
  {
   "cell_type": "code",
   "execution_count": 1,
   "outputs": [],
   "source": [
    "from utils_dfs import *"
   ],
   "metadata": {
    "collapsed": false,
    "pycharm": {
     "name": "#%%\n"
    }
   }
  },
  {
   "cell_type": "code",
   "execution_count": 2,
   "outputs": [],
   "source": [
    "bench_filepath = \"bench_files/c17.bench\"\n",
    "input_tvs_filepath = \"vector_files/c17_tvs1.txt\"\n",
    "input_dfs_filepath = \"vector_files/c17_dfs1.txt\""
   ],
   "metadata": {
    "collapsed": false,
    "pycharm": {
     "name": "#%%\n"
    }
   }
  },
  {
   "cell_type": "code",
   "execution_count": 3,
   "outputs": [
    {
     "data": {
      "text/plain": "{'1': '0', '3': '1', '6': '1', '2': '0', '7': '1'}"
     },
     "execution_count": 3,
     "metadata": {},
     "output_type": "execute_result"
    }
   ],
   "source": [
    "input_vector = process_input_file(input_tvs_filepath)\n",
    "input_vector"
   ],
   "metadata": {
    "collapsed": false,
    "pycharm": {
     "name": "#%%\n"
    }
   }
  },
  {
   "cell_type": "code",
   "execution_count": 4,
   "outputs": [
    {
     "data": {
      "text/plain": "[['NAND', '10', '1', '3_1'],\n ['NAND', '11', '3_2', '6'],\n ['NAND', '16', '2', '11_1'],\n ['NAND', '19', '11_2', '7'],\n ['NAND', '22', '10', '16_1'],\n ['NAND', '23', '16_2', '19'],\n ['FANOUT', '3', '3_1', '3_2'],\n ['FANOUT', '11', '11_1', '11_2'],\n ['FANOUT', '16', '16_1', '16_2'],\n ['INPUT', '1', '2', '3', '6', '7'],\n ['OUTPUT', '22', '23']]"
     },
     "execution_count": 4,
     "metadata": {},
     "output_type": "execute_result"
    }
   ],
   "source": [
    "circuit_data = process_circuit_file(bench_filepath)\n",
    "circuit_data"
   ],
   "metadata": {
    "collapsed": false,
    "pycharm": {
     "name": "#%%\n"
    }
   }
  },
  {
   "cell_type": "code",
   "source": [
    "input_list, gate_list, fanout_list, output_list = split_circuit(circuit_data)\n",
    "print(input_list)\n",
    "print(gate_list)\n",
    "print(fanout_list)\n",
    "print(output_list)"
   ],
   "metadata": {
    "colab": {
     "base_uri": "https://localhost:8080/"
    },
    "id": "y1vJCDioT96K",
    "outputId": "998abbca-63c1-48b3-9175-96c533055d2c",
    "pycharm": {
     "name": "#%%\n"
    }
   },
   "execution_count": 5,
   "outputs": [
    {
     "name": "stdout",
     "output_type": "stream",
     "text": [
      "['1', '2', '3', '6', '7']\n",
      "[['NAND', '10', '1', '3_1'], ['NAND', '11', '3_2', '6'], ['NAND', '16', '2', '11_1'], ['NAND', '19', '11_2', '7'], ['NAND', '22', '10', '16_1'], ['NAND', '23', '16_2', '19']]\n",
      "[['FANOUT', '3', '3_1', '3_2'], ['FANOUT', '11', '11_1', '11_2'], ['FANOUT', '16', '16_1', '16_2']]\n",
      "['22', '23']\n"
     ]
    }
   ]
  },
  {
   "cell_type": "code",
   "source": [
    "wires = create_wires(circuit_data)\n",
    "print(wires)\n",
    "print(len(wires))"
   ],
   "metadata": {
    "colab": {
     "base_uri": "https://localhost:8080/"
    },
    "id": "E_61pvG_Uwgu",
    "outputId": "ca772899-1972-40f2-a9d0-60f96aba04a3",
    "pycharm": {
     "name": "#%%\n"
    }
   },
   "execution_count": 6,
   "outputs": [
    {
     "name": "stdout",
     "output_type": "stream",
     "text": [
      "['3_1', '16_1', '6', '19', '11', '16_2', '11_1', '2', '7', '23', '22', '10', '1', '16', '3', '3_2', '11_2']\n",
      "17\n"
     ]
    }
   ]
  },
  {
   "cell_type": "code",
   "source": [
    "simulation_dict = create_simulation_list(wires)\n",
    "custom_sort_wrapper(simulation_dict, custom_sort_tvs)"
   ],
   "metadata": {
    "id": "1z9ZhQGQUOAK",
    "pycharm": {
     "name": "#%%\n"
    }
   },
   "execution_count": 7,
   "outputs": [
    {
     "data": {
      "text/plain": "{'w1': 'U',\n 'w2': 'U',\n 'w3': 'U',\n 'w3_1': 'U',\n 'w3_2': 'U',\n 'w6': 'U',\n 'w7': 'U',\n 'w10': 'U',\n 'w11': 'U',\n 'w11_1': 'U',\n 'w11_2': 'U',\n 'w16': 'U',\n 'w16_1': 'U',\n 'w16_2': 'U',\n 'w19': 'U',\n 'w22': 'U',\n 'w23': 'U'}"
     },
     "execution_count": 7,
     "metadata": {},
     "output_type": "execute_result"
    }
   ]
  },
  {
   "cell_type": "code",
   "source": [
    "input_wires = create_input_wires(input_list)\n",
    "input_wires"
   ],
   "metadata": {
    "id": "83l11jAkU4t0",
    "pycharm": {
     "name": "#%%\n"
    }
   },
   "execution_count": 8,
   "outputs": [
    {
     "data": {
      "text/plain": "['w1', 'w2', 'w3', 'w6', 'w7']"
     },
     "execution_count": 8,
     "metadata": {},
     "output_type": "execute_result"
    }
   ]
  },
  {
   "cell_type": "code",
   "source": [
    "gates_output_wires = create_gates_output_wires(gate_list)\n",
    "gates_output_wires"
   ],
   "metadata": {
    "colab": {
     "base_uri": "https://localhost:8080/"
    },
    "id": "nihu_3CWRek_",
    "outputId": "cd1fd317-9fda-48e7-8923-79368c61124b",
    "pycharm": {
     "name": "#%%\n"
    }
   },
   "execution_count": 9,
   "outputs": [
    {
     "data": {
      "text/plain": "['10', '11', '16', '19', '22', '23']"
     },
     "execution_count": 9,
     "metadata": {},
     "output_type": "execute_result"
    }
   ]
  },
  {
   "cell_type": "code",
   "execution_count": 10,
   "outputs": [
    {
     "data": {
      "text/plain": "'NAND'"
     },
     "execution_count": 10,
     "metadata": {},
     "output_type": "execute_result"
    }
   ],
   "source": [
    "find_gate(\"16\", gate_list)"
   ],
   "metadata": {
    "collapsed": false,
    "pycharm": {
     "name": "#%%\n"
    }
   }
  },
  {
   "cell_type": "code",
   "execution_count": 11,
   "outputs": [
    {
     "data": {
      "text/plain": "['2', '11_1']"
     },
     "execution_count": 11,
     "metadata": {},
     "output_type": "execute_result"
    }
   ],
   "source": [
    "find_gate_inputs(\"16\", gate_list)"
   ],
   "metadata": {
    "collapsed": false,
    "pycharm": {
     "name": "#%%\n"
    }
   }
  },
  {
   "cell_type": "code",
   "execution_count": 12,
   "outputs": [
    {
     "name": "stdout",
     "output_type": "stream",
     "text": [
      "True\n",
      "False\n"
     ]
    }
   ],
   "source": [
    "print(is_fanin(\"3\", fanout_list))\n",
    "print(is_fanin(\"23\", fanout_list))"
   ],
   "metadata": {
    "collapsed": false,
    "pycharm": {
     "name": "#%%\n"
    }
   }
  },
  {
   "cell_type": "code",
   "execution_count": 13,
   "outputs": [
    {
     "name": "stdout",
     "output_type": "stream",
     "text": [
      "['3_1', '3_2']\n",
      "None\n"
     ]
    }
   ],
   "source": [
    "print(find_fanout_lines(\"3\", fanout_list))\n",
    "print(find_fanout_lines(\"23\", fanout_list))"
   ],
   "metadata": {
    "collapsed": false,
    "pycharm": {
     "name": "#%%\n"
    }
   }
  },
  {
   "cell_type": "code",
   "source": [
    "TEST_simulation_dict = give_input_vector(simulation_dict, input_wires, input_vector)\n",
    "custom_sort_wrapper(TEST_simulation_dict, custom_sort_tvs)"
   ],
   "metadata": {
    "id": "_jlEGjQUVBh5",
    "pycharm": {
     "name": "#%%\n"
    }
   },
   "execution_count": 14,
   "outputs": [
    {
     "data": {
      "text/plain": "{'w1': '0',\n 'w2': '0',\n 'w3': '1',\n 'w3_1': 'U',\n 'w3_2': 'U',\n 'w6': '1',\n 'w7': '1',\n 'w10': 'U',\n 'w11': 'U',\n 'w11_1': 'U',\n 'w11_2': 'U',\n 'w16': 'U',\n 'w16_1': 'U',\n 'w16_2': 'U',\n 'w19': 'U',\n 'w22': 'U',\n 'w23': 'U'}"
     },
     "execution_count": 14,
     "metadata": {},
     "output_type": "execute_result"
    }
   ]
  },
  {
   "cell_type": "code",
   "source": [
    "TEST_simulation_dict = make_fanout_equivalence(TEST_simulation_dict, fanout_list)\n",
    "custom_sort_wrapper(TEST_simulation_dict, custom_sort_tvs)"
   ],
   "metadata": {
    "id": "Ef-wP8QIU_rL",
    "pycharm": {
     "name": "#%%\n"
    }
   },
   "execution_count": 15,
   "outputs": [
    {
     "data": {
      "text/plain": "{'w1': '0',\n 'w2': '0',\n 'w3': '1',\n 'w3_1': '1',\n 'w3_2': '1',\n 'w6': '1',\n 'w7': '1',\n 'w10': 'U',\n 'w11': 'U',\n 'w11_1': 'U',\n 'w11_2': 'U',\n 'w16': 'U',\n 'w16_1': 'U',\n 'w16_2': 'U',\n 'w19': 'U',\n 'w22': 'U',\n 'w23': 'U'}"
     },
     "execution_count": 15,
     "metadata": {},
     "output_type": "execute_result"
    }
   ]
  },
  {
   "cell_type": "code",
   "execution_count": 16,
   "outputs": [
    {
     "data": {
      "text/plain": "[('AND', ['1', '1', '1'], '1'),\n ('AND', ['0', '1', 'U'], '0'),\n ('OR', ['0', '0', '0'], '0'),\n ('OR', ['0', 'U', '1'], '1'),\n ('XOR', ['0', '0'], '0'),\n ('XOR', ['1', '0', '1', '1'], '1'),\n ('XOR', ['1', '1', '1', '1'], '0'),\n ('XOR', ['1', '1', 'U'], 'U'),\n ('XNOR', ['1', '0'], '0'),\n ('XNOR', ['1', '1', '1'], '0'),\n ('XNOR', ['1', '0', '1'], '1'),\n ('XNOR', ['0', '0', 'Z'], 'U'),\n ('NAND', ['1', '1'], '0'),\n ('NAND', ['1', 'U', '0'], '1'),\n ('NOR', ['0', '0'], '1'),\n ('NOR', ['U', '0'], 'U'),\n ('NOT', ['1'], '0'),\n ('NOT', ['Z'], 'U'),\n ('BUFF', ['0'], '0'),\n ('BUFF', ['U'], 'U')]"
     },
     "execution_count": 16,
     "metadata": {},
     "output_type": "execute_result"
    }
   ],
   "source": [
    "gate_simulator_tests = [\n",
    "    (\"AND\", ['1', '1', '1']),\n",
    "    (\"AND\", ['0', '1', 'U']),\n",
    "    (\"OR\", ['0', '0', '0']),\n",
    "    (\"OR\", ['0', 'U', '1']),\n",
    "    (\"XOR\", ['0', '0']),\n",
    "    (\"XOR\", ['1', '0', '1', '1']),\n",
    "    (\"XOR\", ['1', '1', '1', '1']),\n",
    "    (\"XOR\", ['1', '1', 'U']),\n",
    "    (\"XNOR\", ['1', '0']),\n",
    "    (\"XNOR\", ['1', '1', '1']),\n",
    "    (\"XNOR\", ['1', '0', '1']),\n",
    "    (\"XNOR\", ['0', '0', 'Z']),\n",
    "    (\"NAND\", ['1', '1']),\n",
    "    (\"NAND\", ['1', 'U', '0']),\n",
    "    (\"NOR\", ['0', '0']),\n",
    "    (\"NOR\", ['U', '0']),\n",
    "    (\"NOT\", ['1']),\n",
    "    (\"NOT\", ['Z']),\n",
    "    (\"BUFF\", ['0']),\n",
    "    (\"BUFF\", ['U'])\n",
    "]\n",
    "[(case[0], case[1], gate_simulator(case[0], case[1])) for case in gate_simulator_tests]"
   ],
   "metadata": {
    "collapsed": false,
    "pycharm": {
     "name": "#%%\n"
    }
   }
  },
  {
   "cell_type": "code",
   "execution_count": 17,
   "outputs": [
    {
     "data": {
      "text/plain": "{'w1': '0',\n 'w2': '0',\n 'w3': '1',\n 'w3_1': '1',\n 'w3_2': '1',\n 'w6': '1',\n 'w7': '1',\n 'w10': '1',\n 'w11': '0',\n 'w11_1': '0',\n 'w11_2': '0',\n 'w16': '1',\n 'w16_1': '1',\n 'w16_2': '1',\n 'w19': '1',\n 'w22': '0',\n 'w23': '0'}"
     },
     "execution_count": 17,
     "metadata": {},
     "output_type": "execute_result"
    }
   ],
   "source": [
    "tvs = true_value_simulation(\n",
    "    input_vector,\n",
    "    simulation_dict,\n",
    "    fanout_list,\n",
    "    gate_list,\n",
    "    input_wires,\n",
    "    gates_output_wires\n",
    ")\n",
    "custom_sort_wrapper(tvs, custom_sort_tvs)"
   ],
   "metadata": {
    "collapsed": false,
    "pycharm": {
     "name": "#%%\n"
    }
   }
  },
  {
   "cell_type": "markdown",
   "source": [
    "# Deductive Fault Simulation"
   ],
   "metadata": {
    "collapsed": false,
    "pycharm": {
     "name": "#%% md\n"
    }
   }
  },
  {
   "cell_type": "code",
   "execution_count": 18,
   "outputs": [],
   "source": [
    "tvs_for_dfs = tvs_dfs_wrapper(bench_filepath, input_dfs_filepath, mode=\"tvs\")"
   ],
   "metadata": {
    "collapsed": false,
    "pycharm": {
     "name": "#%%\n"
    }
   }
  },
  {
   "cell_type": "code",
   "source": [
    "La_dict = init_fault_list(wires, tvs_for_dfs)\n",
    "custom_sort_wrapper(La_dict, custom_sort_dfs)"
   ],
   "metadata": {
    "id": "BUUsR84IKyVL",
    "pycharm": {
     "name": "#%%\n"
    }
   },
   "execution_count": 19,
   "outputs": [
    {
     "data": {
      "text/plain": "{'L_w1': {'w1_s1'},\n 'L_w2': {'w2_s1'},\n 'L_w3_1': {'w3_1_s0'},\n 'L_w3': {'w3_s0'},\n 'L_w3_2': {'w3_2_s0'},\n 'L_w6': {'w6_s0'},\n 'L_w7': {'w7_s0'},\n 'L_w10': {'w10_s0'},\n 'L_w11': {'w11_s1'},\n 'L_w11_1': {'w11_1_s1'},\n 'L_w11_2': {'w11_2_s1'},\n 'L_w16_1': {'w16_1_s0'},\n 'L_w16_2': {'w16_2_s0'},\n 'L_w16': {'w16_s0'},\n 'L_w19': {'w19_s0'},\n 'L_w22': {'w22_s1'},\n 'L_w23': {'w23_s1'}}"
     },
     "execution_count": 19,
     "metadata": {},
     "output_type": "execute_result"
    }
   ]
  },
  {
   "cell_type": "code",
   "source": [
    "TEST_La = update_fault_list_for_fanout(La_dict, \"11\", fanout_list)\n",
    "custom_sort_wrapper(TEST_La, custom_sort_dfs)"
   ],
   "metadata": {
    "id": "xOO6VoHGK5-x",
    "pycharm": {
     "name": "#%%\n"
    }
   },
   "execution_count": 20,
   "outputs": [
    {
     "data": {
      "text/plain": "{'L_w1': {'w1_s1'},\n 'L_w2': {'w2_s1'},\n 'L_w3_1': {'w3_1_s0'},\n 'L_w3': {'w3_s0'},\n 'L_w3_2': {'w3_2_s0'},\n 'L_w6': {'w6_s0'},\n 'L_w7': {'w7_s0'},\n 'L_w10': {'w10_s0'},\n 'L_w11': {'w11_s1'},\n 'L_w11_1': {'w11_1_s1', 'w11_s1'},\n 'L_w11_2': {'w11_2_s1', 'w11_s1'},\n 'L_w16_1': {'w16_1_s0'},\n 'L_w16_2': {'w16_2_s0'},\n 'L_w16': {'w16_s0'},\n 'L_w19': {'w19_s0'},\n 'L_w22': {'w22_s1'},\n 'L_w23': {'w23_s1'}}"
     },
     "execution_count": 20,
     "metadata": {},
     "output_type": "execute_result"
    }
   ]
  },
  {
   "cell_type": "code",
   "execution_count": 21,
   "outputs": [
    {
     "name": "stdout",
     "output_type": "stream",
     "text": [
      "True AND  ['0', '0']  ['0', '0', '0'] ||| ['0', '0', '0']\n",
      "True AND  ['0', '1']  ['0', '1', '0'] ||| ['0', '1', '0']\n",
      "True AND  ['1', '0']  ['1', '0', '0'] ||| ['1', '0', '0']\n",
      "True AND  ['1', '1']  ['0', '0', '1'] ||| ['0', '0', '1']\n",
      "True NAND  ['0', '0']  ['0', '0', '0'] ||| ['0', '0', '0']\n",
      "True NAND  ['0', '1']  ['0', '1', '0'] ||| ['0', '1', '0']\n",
      "True NAND  ['1', '0']  ['1', '0', '0'] ||| ['1', '0', '0']\n",
      "True NAND  ['1', '1']  ['0', '0', '1'] ||| ['0', '0', '1']\n",
      "True OR  ['0', '0']  ['0', '0', '1'] ||| ['0', '0', '1']\n",
      "True OR  ['0', '1']  ['1', '0', '0'] ||| ['1', '0', '0']\n",
      "True OR  ['1', '0']  ['0', '1', '0'] ||| ['0', '1', '0']\n",
      "True OR  ['1', '1']  ['0', '0', '0'] ||| ['0', '0', '0']\n",
      "True NOR  ['0', '0']  ['0', '0', '1'] ||| ['0', '0', '1']\n",
      "True NOR  ['0', '1']  ['1', '0', '0'] ||| ['1', '0', '0']\n",
      "True NOR  ['1', '0']  ['0', '1', '0'] ||| ['0', '1', '0']\n",
      "True NOR  ['1', '1']  ['0', '0', '0'] ||| ['0', '0', '0']\n",
      "True AND  ['1', '0', '1']  ['1', '0', '1', '0'] ||| ['1', '0', '1', '0']\n",
      "True AND  ['1', '1', '1']  ['0', '0', '0', '1'] ||| ['0', '0', '0', '1']\n",
      "True NAND  ['0', '0', '1']  ['0', '0', '1', '0'] ||| ['0', '0', '1', '0']\n",
      "True NAND  ['1', '1', '1']  ['0', '0', '0', '1'] ||| ['0', '0', '0', '1']\n",
      "True OR  ['0', '0', '0']  ['0', '0', '0', '1'] ||| ['0', '0', '0', '1']\n",
      "True OR  ['1', '0', '1']  ['0', '1', '0', '0'] ||| ['0', '1', '0', '0']\n",
      "True NOR  ['0', '1', '0']  ['1', '0', '1', '0'] ||| ['1', '0', '1', '0']\n",
      "True NOR  ['1', '1', '1']  ['0', '0', '0', '0'] ||| ['0', '0', '0', '0']\n",
      "False NOT  ['0']  ['0'] ||| ['1']\n",
      "True NOT  ['1']  ['0'] ||| ['0']\n",
      "True BUFF  ['0']  ['0'] ||| ['0']\n",
      "True BUFF  ['1']  ['0'] ||| ['0']\n"
     ]
    }
   ],
   "source": [
    "gate_dfs_tests = [\n",
    "    # Test cases format: (gate, inputs, expected_output)\n",
    "    ('AND', ['0', '0'], ['0', '0', '0']),\n",
    "    ('AND', ['0', '1'], ['0', '1', '0']),\n",
    "    ('AND', ['1', '0'], ['1', '0', '0']),\n",
    "    ('AND', ['1', '1'], ['0', '0', '1']),\n",
    "    ('NAND', ['0', '0'], ['0', '0', '0']),\n",
    "    ('NAND', ['0', '1'], ['0', '1', '0']),\n",
    "    ('NAND', ['1', '0'], ['1', '0', '0']),\n",
    "    ('NAND', ['1', '1'], ['0', '0', '1']),\n",
    "    ('OR', ['0', '0'], ['0', '0', '1']),\n",
    "    ('OR', ['0', '1'], ['1', '0', '0']),\n",
    "    ('OR', ['1', '0'], ['0', '1', '0']),\n",
    "    ('OR', ['1', '1'], ['0', '0', '0']),\n",
    "    ('NOR', ['0', '0'], ['0', '0', '1']),\n",
    "    ('NOR', ['0', '1'], ['1', '0', '0']),\n",
    "    ('NOR', ['1', '0'], ['0', '1', '0']),\n",
    "    ('NOR', ['1', '1'], ['0', '0', '0']),\n",
    "    ('AND', ['1', '0', '1'], ['1', '0', '1', '0']),\n",
    "    ('AND', ['1', '1', '1'], ['0', '0', '0', '1']),\n",
    "    ('NAND', ['0', '0', '1'], ['0', '0', '1', '0']),\n",
    "    ('NAND', ['1', '1', '1'], ['0', '0', '0', '1']),\n",
    "    ('OR', ['0', '0', '0'], ['0', '0', '0', '1']),\n",
    "    ('OR', ['1', '0', '1'], ['0', '1', '0', '0']),\n",
    "    ('NOR', ['0', '1', '0'], ['1', '0', '1', '0']),\n",
    "    ('NOR', ['1', '1', '1'], ['0', '0', '0', '0']),\n",
    "    ('NOT', ['0'], ['1']),\n",
    "    ('NOT', ['1'], ['0']),\n",
    "    ('BUFF', ['0'], ['0']),\n",
    "    ('BUFF', ['1'], ['0']),\n",
    "]\n",
    "\n",
    "for gate, inputs, expected in gate_dfs_tests:\n",
    "    test_out = gate_dfs(gate, inputs)\n",
    "    print(f\"{test_out == expected} {gate}  {inputs}  {test_out} ||| {expected}\")"
   ],
   "metadata": {
    "collapsed": false,
    "pycharm": {
     "name": "#%%\n"
    }
   }
  },
  {
   "cell_type": "code",
   "execution_count": 22,
   "outputs": [
    {
     "data": {
      "text/plain": "{'w10_s0',\n 'w10_s1',\n 'w11_1_s0',\n 'w11_1_s1',\n 'w11_2_s0',\n 'w11_2_s1',\n 'w11_s0',\n 'w11_s1',\n 'w16_1_s0',\n 'w16_1_s1',\n 'w16_2_s0',\n 'w16_2_s1',\n 'w16_s0',\n 'w16_s1',\n 'w19_s0',\n 'w19_s1',\n 'w1_s0',\n 'w1_s1',\n 'w22_s0',\n 'w22_s1',\n 'w23_s0',\n 'w23_s1',\n 'w2_s0',\n 'w2_s1',\n 'w3_1_s0',\n 'w3_1_s1',\n 'w3_2_s0',\n 'w3_2_s1',\n 'w3_s0',\n 'w3_s1',\n 'w6_s0',\n 'w6_s1',\n 'w7_s0',\n 'w7_s1'}"
     },
     "execution_count": 22,
     "metadata": {},
     "output_type": "execute_result"
    }
   ],
   "source": [
    "U_set = create_union_set(wires)\n",
    "U_set"
   ],
   "metadata": {
    "collapsed": false,
    "pycharm": {
     "name": "#%%\n"
    }
   }
  },
  {
   "cell_type": "code",
   "execution_count": 23,
   "outputs": [
    {
     "data": {
      "text/plain": "{'L_w1': {'w1_s1'},\n 'L_w2': {'w2_s1'},\n 'L_w3_1': {'w3_1_s0', 'w3_s0'},\n 'L_w3': {'w3_s0'},\n 'L_w3_2': {'w3_2_s0', 'w3_s0'},\n 'L_w6': {'w6_s0'},\n 'L_w7': {'w7_s0'},\n 'L_w10': {'w10_s0', 'w1_s1'},\n 'L_w11': {'w11_s1', 'w3_2_s0', 'w3_s0', 'w6_s0'},\n 'L_w11_1': {'w11_1_s1', 'w11_s1', 'w3_2_s0', 'w3_s0', 'w6_s0'},\n 'L_w11_2': {'w11_2_s1', 'w11_s1', 'w3_2_s0', 'w3_s0', 'w6_s0'},\n 'L_w16_1': {'w16_1_s0', 'w16_s0'},\n 'L_w16_2': {'w16_2_s0', 'w16_s0'},\n 'L_w16': {'w16_s0'},\n 'L_w19': {'w11_2_s1', 'w11_s1', 'w19_s0', 'w3_2_s0', 'w3_s0', 'w6_s0'},\n 'L_w22': {'w10_s0', 'w16_1_s0', 'w16_s0', 'w1_s1', 'w22_s1'},\n 'L_w23': {'w11_2_s1',\n  'w11_s1',\n  'w16_2_s0',\n  'w16_s0',\n  'w19_s0',\n  'w23_s1',\n  'w3_2_s0',\n  'w3_s0',\n  'w6_s0'}}"
     },
     "execution_count": 23,
     "metadata": {},
     "output_type": "execute_result"
    }
   ],
   "source": [
    "dfs = deductive_fault_simulation(\n",
    "    La_dict,\n",
    "    input_list,\n",
    "    fanout_list,\n",
    "    gates_output_wires,\n",
    "    gate_list,\n",
    "    tvs_for_dfs,\n",
    "    U_set\n",
    ")\n",
    "custom_sort_wrapper(dfs, custom_sort_dfs)"
   ],
   "metadata": {
    "collapsed": false,
    "pycharm": {
     "name": "#%%\n"
    }
   }
  },
  {
   "cell_type": "code",
   "source": [
    "dfs_report(dfs, output_list)"
   ],
   "metadata": {
    "colab": {
     "base_uri": "https://localhost:8080/"
    },
    "id": "LHD0OlJELnyR",
    "outputId": "300ffdfd-fb54-4793-bae7-a30f89987586",
    "pycharm": {
     "name": "#%%\n"
    }
   },
   "execution_count": 24,
   "outputs": [
    {
     "name": "stdout",
     "output_type": "stream",
     "text": [
      "Number of detected faults: 13\n",
      "Total number of faults: 34\n",
      "Fault Coverage: 0.38235294117647056\n"
     ]
    }
   ]
  },
  {
   "cell_type": "code",
   "execution_count": 24,
   "outputs": [],
   "source": [],
   "metadata": {
    "collapsed": false,
    "pycharm": {
     "name": "#%%\n"
    }
   }
  }
 ]
}